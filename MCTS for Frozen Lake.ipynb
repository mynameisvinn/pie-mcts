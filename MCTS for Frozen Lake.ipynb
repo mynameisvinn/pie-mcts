{
 "cells": [
  {
   "cell_type": "code",
   "execution_count": 202,
   "metadata": {},
   "outputs": [],
   "source": [
    "from gym.envs.registration import register, spec\n",
    "import gym\n",
    "import numpy as np"
   ]
  },
  {
   "cell_type": "code",
   "execution_count": 203,
   "metadata": {},
   "outputs": [],
   "source": [
    "MY_ENV_NAME='FrozenLakeNonskid4x4-v5'\n",
    "\n",
    "# 0 = left; 1 = down; 2 = right;  3 = up\n",
    "# reward of 1 if success, no reward otherwise\n",
    "# done = True even if not success due to timestep limit\n",
    "\n",
    "register(\n",
    "    id=MY_ENV_NAME,\n",
    "    entry_point='gym.envs.toy_text:FrozenLakeEnv',\n",
    "    kwargs={'map_name': '4x4', 'is_slippery': False},\n",
    "    reward_threshold=0.78\n",
    ")"
   ]
  },
  {
   "cell_type": "code",
   "execution_count": 204,
   "metadata": {},
   "outputs": [],
   "source": [
    "env = gym.make(MY_ENV_NAME)"
   ]
  },
  {
   "cell_type": "code",
   "execution_count": 271,
   "metadata": {},
   "outputs": [],
   "source": [
    "class Node(object):\n",
    "    def __init__(self):\n",
    "        self.q = 0  # win count\n",
    "        self.n = 0  # play count\n",
    "\n",
    "def select_action(s, memory, env):\n",
    "    \"\"\"\n",
    "    return action corresponding to the child with highest ucb.\n",
    "    \n",
    "    s is the current state\n",
    "    \"\"\"\n",
    "    # find all actions that would lead to a valid state\n",
    "    action_state = []\n",
    "    for a in range(3):\n",
    "        s_new, _, _, _ = env.step(a)\n",
    "        \n",
    "        # scenario 1: action does not lead to a valid state\n",
    "        if s_new == s:\n",
    "            pass\n",
    "        # scenario 2: action could lead to a new state\n",
    "        else:\n",
    "            action_state.append((a, s_new))\n",
    "        env.s = s  # reset env to original state\n",
    "    \n",
    "    # if we havent seen that child before, then go with it\n",
    "    for ap in action_state:\n",
    "        a = ap[0]\n",
    "        s2 = ap[1]\n",
    "        if s2 in memory.keys():\n",
    "            pass\n",
    "        else:\n",
    "            return a  # this action leads to a state that we havent seen before\n",
    "        \n",
    "    # if we've seen all possible children, return action leading to child with the highest UCB\n",
    "    action = None\n",
    "    max_ucb = 0\n",
    "    for ap in action_state:\n",
    "        child = memory[ap[1]]\n",
    "        parent = memory[s]\n",
    "        score = calculate_ucb(parent, child)\n",
    "        if score > max_ucb:\n",
    "            action = ap[0]\n",
    "            max_ucb = score  # new score to beat\n",
    "    if action is not None:\n",
    "        return action\n",
    "    else:\n",
    "        actions = [ap[0] for ap in action_state]\n",
    "        return np.random.choice(actions)\n",
    "    \n",
    "def calculate_ucb(parent, child):\n",
    "    c_param = .14\n",
    "    term_1 = (child.q / child.n)  # can be interpreted as the value estimate\n",
    "    term_2 = c_param * np.sqrt((2 * np.log(parent.n) / child.n))\n",
    "    return  term_1 + term_2"
   ]
  },
  {
   "cell_type": "code",
   "execution_count": 283,
   "metadata": {},
   "outputs": [
    {
     "name": "stdout",
     "output_type": "stream",
     "text": [
      ">> rollout:  0\n",
      "completed rollout with reward 0.0\n",
      "trace [14, 13, 12]\n",
      ">> rollout:  1\n",
      "completed rollout with reward 1.0\n",
      "trace [14, 15]\n",
      ">> rollout:  2\n",
      "completed rollout with reward 1.0\n",
      "trace [14, 15]\n",
      ">> rollout:  3\n",
      "completed rollout with reward 1.0\n",
      "trace [14, 15]\n",
      ">> rollout:  4\n",
      "completed rollout with reward 1.0\n",
      "trace [14, 15]\n",
      ">> rollout:  5\n",
      "completed rollout with reward 1.0\n",
      "trace [14, 15]\n"
     ]
    }
   ],
   "source": [
    "n_rollouts = 6\n",
    "starting_point = 14\n",
    "memory = {starting_point: Node()}\n",
    "\n",
    "for rollout in range(n_rollouts):\n",
    "    print(\">> rollout: \", rollout)\n",
    "    trace = [starting_point]\n",
    "    env.s = starting_point\n",
    "    s = starting_point\n",
    "    done = False\n",
    "    steps = 0\n",
    "\n",
    "    while not done and steps < 50:\n",
    "        a = select_action(s, memory, env)\n",
    "        s, r, done, _ = env.step(a)\n",
    "        steps += 1\n",
    "\n",
    "        # if we've seen s before\n",
    "        if s in memory:\n",
    "            pass\n",
    "        else:\n",
    "            memory[s] = Node()\n",
    "\n",
    "        # add to trace - dont worry about double counting since we will take the set\n",
    "        trace.append(s)\n",
    "\n",
    "    print(\"completed rollout with reward\", r)\n",
    "    print(\"trace\", trace)\n",
    "\n",
    "    # once we are done, we need to backpropagate \n",
    "    for t in set(trace):\n",
    "        node = memory[t]  # retrieve node for corresponding state\n",
    "        node.q += r  # reward\n",
    "        node.n += 1  # games played"
   ]
  },
  {
   "cell_type": "code",
   "execution_count": 285,
   "metadata": {},
   "outputs": [
    {
     "name": "stdout",
     "output_type": "stream",
     "text": [
      "starting point 14\n",
      "action 2\n"
     ]
    }
   ],
   "source": [
    "idx = 14\n",
    "print('starting point', starting_point)\n",
    "a = select_action(idx, memory, env)\n",
    "print(\"action\", a)"
   ]
  },
  {
   "cell_type": "code",
   "execution_count": null,
   "metadata": {},
   "outputs": [],
   "source": []
  }
 ],
 "metadata": {
  "kernelspec": {
   "display_name": "Python 3",
   "language": "python",
   "name": "python3"
  },
  "language_info": {
   "codemirror_mode": {
    "name": "ipython",
    "version": 3
   },
   "file_extension": ".py",
   "mimetype": "text/x-python",
   "name": "python",
   "nbconvert_exporter": "python",
   "pygments_lexer": "ipython3",
   "version": "3.7.3"
  }
 },
 "nbformat": 4,
 "nbformat_minor": 2
}
