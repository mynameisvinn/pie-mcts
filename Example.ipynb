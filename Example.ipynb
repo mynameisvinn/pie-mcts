{
 "cells": [
  {
   "cell_type": "code",
   "execution_count": 1,
   "metadata": {},
   "outputs": [],
   "source": [
    "from Node import Node\n",
    "from MCTS import MCTS"
   ]
  },
  {
   "cell_type": "code",
   "execution_count": 2,
   "metadata": {},
   "outputs": [],
   "source": [
    "# define possible rollouts\n",
    "\n",
    "A = Node(\"A\")\n",
    "B = Node(\"B\")\n",
    "C = Node(\"C\")\n",
    "D = Node(\"D\")\n",
    "E = Node(\"E\", reward=0.5)\n",
    "F = Node(\"F\", reward=0.2)\n",
    "G = Node(\"G\", reward=0.2)\n",
    "H = Node(\"H\", reward=0.1)\n",
    "I = Node(\"I\", reward=0.6)\n",
    "J = Node(\"J\", reward=0.4)\n",
    "K = Node(\"K\")\n",
    "L = Node(\"L\", reward=1)\n",
    "M = Node(\"M\", reward=1)\n",
    "\n",
    "A.add_children([B, C, D])\n",
    "B.add_children([E, F])\n",
    "C.add_children([G, H])\n",
    "D.add_children([I, J, K])\n",
    "K.add_children([L, M])\n",
    "\n",
    "A.is_visited = True  # A is root node"
   ]
  },
  {
   "cell_type": "code",
   "execution_count": 3,
   "metadata": {},
   "outputs": [],
   "source": [
    "M = MCTS()"
   ]
  },
  {
   "cell_type": "code",
   "execution_count": 4,
   "metadata": {},
   "outputs": [],
   "source": [
    "M.fit(root_node=A, n_rollouts=20)"
   ]
  },
  {
   "cell_type": "code",
   "execution_count": 5,
   "metadata": {},
   "outputs": [
    {
     "name": "stderr",
     "output_type": "stream",
     "text": [
      "100%|██████████| 20/20 [00:00<00:00, 5043.05it/s]\n"
     ]
    },
    {
     "data": {
      "text/plain": [
       "'D'"
      ]
     },
     "execution_count": 5,
     "metadata": {},
     "output_type": "execute_result"
    }
   ],
   "source": [
    "M.predict()  # should select D out of A's children"
   ]
  },
  {
   "cell_type": "code",
   "execution_count": null,
   "metadata": {
    "collapsed": true
   },
   "outputs": [],
   "source": []
  }
 ],
 "metadata": {
  "kernelspec": {
   "display_name": "Python 3",
   "language": "python",
   "name": "python3"
  },
  "language_info": {
   "codemirror_mode": {
    "name": "ipython",
    "version": 3
   },
   "file_extension": ".py",
   "mimetype": "text/x-python",
   "name": "python",
   "nbconvert_exporter": "python",
   "pygments_lexer": "ipython3",
   "version": "3.7.3"
  }
 },
 "nbformat": 4,
 "nbformat_minor": 2
}
